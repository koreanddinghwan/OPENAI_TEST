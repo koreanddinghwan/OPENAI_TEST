{
  "nbformat": 4,
  "nbformat_minor": 0,
  "metadata": {
    "colab": {
      "provenance": [],
      "gpuType": "T4",
      "authorship_tag": "ABX9TyOUSo9HfQmf5np3WAWZzDeC",
      "include_colab_link": true
    },
    "kernelspec": {
      "name": "python3",
      "display_name": "Python 3"
    },
    "language_info": {
      "name": "python"
    },
    "accelerator": "GPU",
    "gpuClass": "standard"
  },
  "cells": [
    {
      "cell_type": "markdown",
      "metadata": {
        "id": "view-in-github",
        "colab_type": "text"
      },
      "source": [
        "<a href=\"https://colab.research.google.com/github/koreanddinghwan/OPENAI_TEST/blob/main/Untitled3.ipynb\" target=\"_parent\"><img src=\"https://colab.research.google.com/assets/colab-badge.svg\" alt=\"Open In Colab\"/></a>"
      ]
    },
    {
      "cell_type": "code",
      "execution_count": null,
      "metadata": {
        "colab": {
          "base_uri": "https://localhost:8080/"
        },
        "id": "IIQm6HAvXVyq",
        "outputId": "ba74045d-9db9-4b48-de37-9517b77c35a4"
      },
      "outputs": [
        {
          "output_type": "stream",
          "name": "stdout",
          "text": [
            "Found GPU at: /device:GPU:0\n"
          ]
        }
      ],
      "source": [
        "import pandas as pd\n",
        "import numpy as np\n",
        "import tensorflow as tf\n",
        "from sklearn.model_selection import train_test_split\n",
        "\n",
        "device_name = tf.test.gpu_device_name()\n",
        "if device_name != '/device:GPU:0':\n",
        "  raise SystemError('GPU device not found')\n",
        "print('Found GPU at: {}'.format(device_name))\n",
        "\n"
      ]
    },
    {
      "cell_type": "code",
      "source": [
        "# Load the dataset\n",
        "diab = pd.read_csv(\"./diabetes_prediction_dataset.csv\")\n",
        "\n",
        "# Convert categorical variables to one-hot encoding\n",
        "diab = pd.get_dummies(diab, columns=['gender', 'hypertension', 'heart_disease', 'smoking_history', 'diabetes'])\n",
        "\n",
        "# Normalize numeric variables between 0 and 1\n",
        "diab['age'] = (diab['age'] - diab['age'].min()) / (diab['age'].max() - diab['age'].min())\n",
        "diab['bmi'] = (diab['bmi'] - diab['bmi'].min()) / (diab['bmi'].max() - diab['bmi'].min())\n",
        "diab['HbA1c_level'] = (diab['HbA1c_level'] - diab['HbA1c_level'].min()) / (diab['HbA1c_level'].max() - diab['HbA1c_level'].min())\n",
        "diab['blood_glucose_level'] = (diab['blood_glucose_level'] - diab['blood_glucose_level'].min()) / (diab['blood_glucose_level'].max() - diab['blood_glucose_level'].min())\n",
        "\n",
        "# Split the dataset into training and validation sets\n",
        "train_data, validation_data = train_test_split(diab, test_size=0.3, random_state=99)\n",
        "\n",
        "# Define the input shape\n",
        "input_shape = train_data.shape[1] - 2\n",
        "\n",
        "# Convert the data to NumPy arrays\n",
        "train_X = train_data.iloc[:, :-2].values\n",
        "train_y = train_data.iloc[:, -2:].values\n",
        "validation_X = validation_data.iloc[:, :-2].values\n",
        "validation_y = validation_data.iloc[:, -2:].values\n",
        "\n",
        "# Define the neural network architecture\n",
        "model = tf.keras.Sequential([\n",
        "    tf.keras.layers.Dense(64, activation='relu', input_shape=(input_shape,)),\n",
        "    tf.keras.layers.Dense(128, activation='relu', input_shape=(input_shape,)),\n",
        "    tf.keras.layers.Dense(128, activation='relu', input_shape=(input_shape,)),\n",
        "    tf.keras.layers.Dense(2, activation='softmax')\n",
        "])\n",
        "\n",
        "# Compile the model\n",
        "model.compile(optimizer='adam', loss='categorical_crossentropy', metrics=['accuracy'])\n",
        "\n",
        "# Train the model\n",
        "model.fit(train_X, train_y, epochs=100, batch_size=32, verbose=1)\n",
        "\n",
        "# Evaluate the model on the validation set\n",
        "_, accuracy = model.evaluate(validation_X, validation_y, verbose=0)\n",
        "print('Validation accuracy:', accuracy)\n"
      ],
      "metadata": {
        "colab": {
          "base_uri": "https://localhost:8080/"
        },
        "id": "qyL76Qb_jlWz",
        "outputId": "e23ebd88-453a-4af7-abfc-361d3779d169"
      },
      "execution_count": null,
      "outputs": [
        {
          "output_type": "stream",
          "name": "stdout",
          "text": [
            "Epoch 1/100\n",
            "2188/2188 [==============================] - 10s 3ms/step - loss: 0.1305 - accuracy: 0.9541\n",
            "Epoch 2/100\n",
            "2188/2188 [==============================] - 8s 4ms/step - loss: 0.1165 - accuracy: 0.9588\n",
            "Epoch 3/100\n",
            "2188/2188 [==============================] - 7s 3ms/step - loss: 0.1131 - accuracy: 0.9605\n",
            "Epoch 4/100\n",
            "2188/2188 [==============================] - 8s 4ms/step - loss: 0.1020 - accuracy: 0.9648\n",
            "Epoch 5/100\n",
            "2188/2188 [==============================] - 8s 4ms/step - loss: 0.0936 - accuracy: 0.9674\n",
            "Epoch 6/100\n",
            "2188/2188 [==============================] - 7s 3ms/step - loss: 0.0914 - accuracy: 0.9684\n",
            "Epoch 7/100\n",
            "2188/2188 [==============================] - 8s 4ms/step - loss: 0.0896 - accuracy: 0.9685\n",
            "Epoch 8/100\n",
            "2188/2188 [==============================] - 7s 3ms/step - loss: 0.0895 - accuracy: 0.9687\n",
            "Epoch 9/100\n",
            "2188/2188 [==============================] - 9s 4ms/step - loss: 0.0882 - accuracy: 0.9690\n",
            "Epoch 10/100\n",
            "2188/2188 [==============================] - 8s 4ms/step - loss: 0.0882 - accuracy: 0.9691\n",
            "Epoch 11/100\n",
            "2188/2188 [==============================] - 7s 3ms/step - loss: 0.0878 - accuracy: 0.9690\n",
            "Epoch 12/100\n",
            "2188/2188 [==============================] - 8s 4ms/step - loss: 0.0871 - accuracy: 0.9697\n",
            "Epoch 13/100\n",
            "2188/2188 [==============================] - 8s 4ms/step - loss: 0.0875 - accuracy: 0.9694\n",
            "Epoch 14/100\n",
            "2188/2188 [==============================] - 7s 3ms/step - loss: 0.0871 - accuracy: 0.9693\n",
            "Epoch 15/100\n",
            "2188/2188 [==============================] - 8s 4ms/step - loss: 0.0863 - accuracy: 0.9700\n",
            "Epoch 16/100\n",
            "2188/2188 [==============================] - 7s 3ms/step - loss: 0.0872 - accuracy: 0.9696\n",
            "Epoch 17/100\n",
            "2188/2188 [==============================] - 8s 4ms/step - loss: 0.0866 - accuracy: 0.9694\n",
            "Epoch 18/100\n",
            "2188/2188 [==============================] - 8s 4ms/step - loss: 0.0862 - accuracy: 0.9699\n",
            "Epoch 19/100\n",
            "2188/2188 [==============================] - 7s 3ms/step - loss: 0.0865 - accuracy: 0.9695\n",
            "Epoch 20/100\n",
            "2188/2188 [==============================] - 8s 4ms/step - loss: 0.0859 - accuracy: 0.9702\n",
            "Epoch 21/100\n",
            "2188/2188 [==============================] - 7s 3ms/step - loss: 0.0849 - accuracy: 0.9706\n",
            "Epoch 22/100\n",
            "2188/2188 [==============================] - 8s 4ms/step - loss: 0.0857 - accuracy: 0.9702\n",
            "Epoch 23/100\n",
            "2188/2188 [==============================] - 8s 4ms/step - loss: 0.0846 - accuracy: 0.9706\n",
            "Epoch 24/100\n",
            "2188/2188 [==============================] - 7s 3ms/step - loss: 0.0855 - accuracy: 0.9702\n",
            "Epoch 25/100\n",
            "2188/2188 [==============================] - 8s 4ms/step - loss: 0.0853 - accuracy: 0.9704\n",
            "Epoch 26/100\n",
            "2188/2188 [==============================] - 8s 3ms/step - loss: 0.0844 - accuracy: 0.9708\n",
            "Epoch 27/100\n",
            "2188/2188 [==============================] - 7s 3ms/step - loss: 0.0849 - accuracy: 0.9704\n",
            "Epoch 28/100\n",
            "2188/2188 [==============================] - 8s 4ms/step - loss: 0.0849 - accuracy: 0.9706\n",
            "Epoch 29/100\n",
            "2188/2188 [==============================] - 7s 3ms/step - loss: 0.0846 - accuracy: 0.9705\n",
            "Epoch 30/100\n",
            "2188/2188 [==============================] - 8s 4ms/step - loss: 0.0842 - accuracy: 0.9708\n",
            "Epoch 31/100\n",
            "2188/2188 [==============================] - 8s 4ms/step - loss: 0.0838 - accuracy: 0.9709\n",
            "Epoch 32/100\n",
            "2188/2188 [==============================] - 7s 3ms/step - loss: 0.0846 - accuracy: 0.9709\n",
            "Epoch 33/100\n",
            "2188/2188 [==============================] - 8s 4ms/step - loss: 0.0837 - accuracy: 0.9709\n",
            "Epoch 34/100\n",
            "2188/2188 [==============================] - 7s 3ms/step - loss: 0.0839 - accuracy: 0.9709\n",
            "Epoch 35/100\n",
            "2188/2188 [==============================] - 8s 4ms/step - loss: 0.0841 - accuracy: 0.9706\n",
            "Epoch 36/100\n",
            " 654/2188 [=======>......................] - ETA: 5s - loss: 0.0796 - accuracy: 0.9721"
          ]
        }
      ]
    },
    {
      "cell_type": "code",
      "source": [
        "from sklearn.metrics import confusion_matrix\n",
        "from sklearn.metrics import accuracy_score, cohen_kappa_score\n",
        "\n",
        "\n",
        "valid_pred = model.predict(validation_X)\n",
        "valid_pred_class = np.argmax(valid_pred, axis=1)\n",
        "\n",
        "# 실제 레이블과 예측 레이블 간의 confusion matrix 계산\n",
        "confusion_mtx = confusion_matrix(np.argmax(validation_y, axis=1), valid_pred_class)\n",
        "print(\"Confusion Matrix:\")\n",
        "print(confusion_mtx)\n",
        "\n",
        "\n",
        "# 모델 학습 코드...\n",
        "\n",
        "# 검증 세트 예측\n",
        "valid_pred = model.predict(validation_X)\n",
        "valid_pred_class = np.argmax(valid_pred, axis=1)\n",
        "\n",
        "# 실제 레이블과 예측 레이블 간의 confusion matrix 계산\n",
        "confusion_mtx = confusion_matrix(np.argmax(validation_y, axis=1), valid_pred_class)\n",
        "\n",
        "# Positive class에 대한 accuracy, p-value, kappa, sensitivity, specificity 계산\n",
        "true_positive = confusion_mtx[1, 1]\n",
        "false_positive = confusion_mtx[0, 1]\n",
        "false_negative = confusion_mtx[1, 0]\n",
        "true_negative = confusion_mtx[0, 0]\n",
        "\n",
        "accuracy = (true_positive + true_negative) / np.sum(confusion_mtx)\n",
        "p_value = true_positive / (true_positive + false_positive)\n",
        "kappa = cohen_kappa_score(np.argmax(validation_y, axis=1), valid_pred_class)\n",
        "sensitivity = true_positive / (true_positive + false_negative)\n",
        "specificity = true_negative / (true_negative + false_positive)\n",
        "\n",
        "print(\"Accuracy: {:.4f}\".format(accuracy))\n",
        "print(\"P-value: {:.4f}\".format(p_value))\n",
        "print(\"Kappa: {:.4f}\".format(kappa))\n",
        "print(\"Sensitivity: {:.4f}\".format(sensitivity))\n",
        "print(\"Specificity: {:.4f}\".format(specificity))"
      ],
      "metadata": {
        "colab": {
          "base_uri": "https://localhost:8080/"
        },
        "id": "ekPYXaHKiniV",
        "outputId": "28cf9c9d-3143-423f-bb37-102f570f413c"
      },
      "execution_count": null,
      "outputs": [
        {
          "output_type": "stream",
          "name": "stdout",
          "text": [
            "938/938 [==============================] - 1s 1ms/step\n",
            "Confusion Matrix:\n",
            "[[27194   289]\n",
            " [  919  1598]]\n",
            "938/938 [==============================] - 2s 2ms/step\n",
            "Accuracy: 0.9597\n",
            "P-value: 0.8468\n",
            "Kappa: 0.7045\n",
            "Sensitivity: 0.6349\n",
            "Specificity: 0.9895\n"
          ]
        }
      ]
    },
    {
      "cell_type": "code",
      "source": [
        "from tensorflow.keras.utils import plot_model\n",
        "\n",
        "\n",
        "# 모델 시각화\n",
        "plot_model(model, to_file='model.png', show_shapes=True, show_layer_names=True)\n"
      ],
      "metadata": {
        "colab": {
          "base_uri": "https://localhost:8080/",
          "height": 312
        },
        "id": "Qb57RiZLioXd",
        "outputId": "a8648017-816f-4edc-9ffb-b505939c55c0"
      },
      "execution_count": null,
      "outputs": [
        {
          "output_type": "execute_result",
          "data": {
            "image/png": "[encoded data removed]",
            "text/plain": [
              "<IPython.core.display.Image object>"
            ]
          },
          "metadata": {},
          "execution_count": 16
        }
      ]
    },
    {
      "cell_type": "code",
      "source": [],
      "metadata": {
        "id": "-OY_gJfKmkPt"
      },
      "execution_count": null,
      "outputs": []
    }
  ]
}